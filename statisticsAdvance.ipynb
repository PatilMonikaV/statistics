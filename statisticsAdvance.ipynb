{
 "cells": [
  {
   "cell_type": "markdown",
   "id": "63ac84e6-62b7-41e6-bd6e-4cfb6e0a7297",
   "metadata": {},
   "source": [
    "Q1. What is the Probability density function?"
   ]
  },
  {
   "cell_type": "markdown",
   "id": "bd15fd88-24c0-4dfa-8803-fef8d5beebef",
   "metadata": {},
   "source": [
    " A function that defines the relationship between a random variable and its probability, such that you can find the probability of the variable using the function, is called a Probability Density Function (PDF) in statistics."
   ]
  },
  {
   "cell_type": "markdown",
   "id": "9a91898c-fa7b-4e9c-a061-a590c65a211d",
   "metadata": {},
   "source": [
    "Q2. What are the types of Probability distribution?"
   ]
  },
  {
   "cell_type": "markdown",
   "id": "f8f377e8-a73f-404c-90c7-406e4e163b99",
   "metadata": {},
   "source": [
    "There are two types of probability distributions: Discrete probability distributions. Continuous probability distributions.         \n",
    "Discrete probability distributions Can assume a discrete number of values, such as coin tosses and counts of events. For example, in a coin toss, you can only have heads or tails, so there are no in-between values. \n",
    "Continuous probability distributions Also known as cumulative probability distributions, the possible outcomes can take on values in a continuous range. \n",
    "Here are some examples of probability distributions:\n",
    "\n",
    "Binomial distribution\n",
    "Used when there are exactly two mutually exclusive possible outcomes of a trial, such as \"success\" and \"failure\".\n",
    "\n",
    "Poisson distribution\n",
    "Models the probability that a given number of events will occur within an interval of time independently and at a constant mean rate.\n",
    "\n",
    "Normal distribution\n",
    "Also known as a bell curve, this is a type of continuous distribution that is symmetrical from both ends of the mean.\n",
    "\n",
    "Hypergeometric distribution\n",
    "A type of probability distribution in which we will randomly sample 4 bulbs in the set of 50 bulbs without replacing the bulbs.\n",
    "\n",
    "Negative binomial distribution\n",
    "Also known as the Pascal distribution, this is a type of binomial distribution where the number of trials, n, is not fixed. "
   ]
  },
  {
   "cell_type": "markdown",
   "id": "4f73f9e0-336e-43ff-b755-5ac6a0a0116f",
   "metadata": {},
   "source": [
    "Q3. Write a Python function to calculate the probability density function of a normal distribution with\n",
    "given mean and standard deviation at a given point."
   ]
  },
  {
   "cell_type": "code",
   "execution_count": 2,
   "id": "c12918a0-6dc7-4321-a628-844d7475b7d5",
   "metadata": {},
   "outputs": [],
   "source": [
    "from scipy.stats import norm\n",
    "\n",
    "def calculate_normal_pdf(mean, std_dev, point):\n",
    "    pdf_value = norm.pdf(point, loc=mean, scale=std_dev)\n",
    "    return pdf_value\n"
   ]
  },
  {
   "cell_type": "code",
   "execution_count": 3,
   "id": "9cf7556a-a696-425a-a315-6bb78a8351fc",
   "metadata": {},
   "outputs": [
    {
     "name": "stdout",
     "output_type": "stream",
     "text": [
      "0.12951759566589174\n"
     ]
    }
   ],
   "source": [
    "mean_value = 0\n",
    "std_deviation = 1\n",
    "point_to_evaluate = 1.5\n",
    "\n",
    "pdf_at_point = calculate_normal_pdf(mean_value, std_deviation, point_to_evaluate)\n",
    "print(pdf_at_point)\n"
   ]
  },
  {
   "cell_type": "markdown",
   "id": "377a7210-48f5-45c5-8ade-f0fe4927bc11",
   "metadata": {},
   "source": [
    "Q4. What are the properties of Binomial distribution? Give two examples of events where binomial\n",
    "distribution can be applied."
   ]
  },
  {
   "cell_type": "markdown",
   "id": "21c767e9-4b7e-4a4c-962d-a89dc6a800a2",
   "metadata": {},
   "source": [
    "The binomial distribution has the following properties:             \n",
    "There are only two possible outcomes: success or failure, yes or no, true or false                   \n",
    "The probability of success and failure remains the same for each trial                  \n",
    "The outcome of each trial must be independent of the other               \n",
    "There is a finite number of trials given as 'n'                  \n",
    "Only success is calculated out of all trials                       \n",
    "Every trial is an independent trial, which means the outcome of one trial does not affect the outcome of another trial             \n",
    "\n",
    "some examples of binomial distribution include:              \n",
    "Dice related problems               \n",
    "Coin tossing examples            \n",
    "Samples with the replacement for a finite                    \n",
    "Determining the quantity of raw and utilized materials while making a product                   \n",
    "Estimating the chances of success for a free-throw shooter in basketball, where 1 = a basket made and 0 = a miss"
   ]
  },
  {
   "cell_type": "markdown",
   "id": "c32874c3-c957-426b-8147-520c303c188b",
   "metadata": {},
   "source": [
    "Q5. Generate a random sample of size 1000 from a binomial distribution with probability of success 0.4\n",
    "and plot a histogram of the results using matplotlib."
   ]
  },
  {
   "cell_type": "code",
   "execution_count": 4,
   "id": "92ea67e0-5a06-4de0-bf6f-05e748f4836a",
   "metadata": {},
   "outputs": [
    {
     "data": {
      "image/png": "[encoded data removed]",
      "text/plain": [
       "<Figure size 640x480 with 1 Axes>"
      ]
     },
     "metadata": {},
     "output_type": "display_data"
    }
   ],
   "source": [
    "import numpy as np\n",
    "import matplotlib.pyplot as plt\n",
    "\n",
    "# Set the parameters\n",
    "sample_size = 1000\n",
    "probability_of_success = 0.4\n",
    "number_of_trials = 1  # Since it's a binomial distribution with one trial\n",
    "\n",
    "# Generate the random sample\n",
    "binomial_sample = np.random.binomial(number_of_trials, probability_of_success, sample_size)\n",
    "\n",
    "# Plotting the histogram\n",
    "plt.hist(binomial_sample, bins=20, density=True, alpha=0.6, color='blue', edgecolor='black')\n",
    "\n",
    "# Add labels and title\n",
    "plt.xlabel('Number of Successes')\n",
    "plt.ylabel('Probability Density')\n",
    "plt.title('Histogram of Binomial Distribution')\n",
    "\n",
    "# Show the plot\n",
    "plt.show()\n"
   ]
  },
  {
   "cell_type": "markdown",
   "id": "6102a8df-7dd2-443e-8557-410325cfba47",
   "metadata": {},
   "source": [
    "Q6. Write a Python function to calculate the cumulative distribution function of a Poisson distribution\n",
    "with given mean at a given point."
   ]
  },
  {
   "cell_type": "code",
   "execution_count": 5,
   "id": "cfbecf14-4898-42f3-9444-5e85afa919d0",
   "metadata": {},
   "outputs": [],
   "source": [
    "from scipy.stats import poisson\n",
    "\n",
    "def calculate_poisson_cdf(mean, point):\n",
    "    cdf_value = poisson.cdf(point, mu=mean)\n",
    "    return cdf_value\n"
   ]
  },
  {
   "cell_type": "code",
   "execution_count": 6,
   "id": "2ce549ea-4b00-409c-9fae-63bd2c282bf7",
   "metadata": {},
   "outputs": [
    {
     "name": "stdout",
     "output_type": "stream",
     "text": [
      "0.9160820579686966\n"
     ]
    }
   ],
   "source": [
    "mean_value = 3\n",
    "point_to_evaluate = 5\n",
    "\n",
    "cdf_at_point = calculate_poisson_cdf(mean_value, point_to_evaluate)\n",
    "print(cdf_at_point)\n"
   ]
  },
  {
   "cell_type": "markdown",
   "id": "5e3e881b-c386-4af4-bb14-3613481287f6",
   "metadata": {},
   "source": [
    "Q7. How Binomial distribution different from Poisson distribution?"
   ]
  },
  {
   "cell_type": "markdown",
   "id": "4d26fa1b-c9ab-42f2-8832-81dc177d6b59",
   "metadata": {},
   "source": [
    "While the Binomial distribution deals with experiments involving a fixed number of independent trials, the Poisson distribution focuses on events occurring over a fixed interval. Understanding their differences and knowing when to apply each distribution is crucial for accurate data analysis and modelling"
   ]
  },
  {
   "cell_type": "markdown",
   "id": "7baa71dc-7cc7-475f-8c33-89a99ecf4993",
   "metadata": {},
   "source": [
    "Q8. Generate a random sample of size 1000 from a Poisson distribution with mean 5 and calculate the\n",
    "sample mean and variance."
   ]
  },
  {
   "cell_type": "code",
   "execution_count": 7,
   "id": "3197f29d-8710-4827-8733-e8d1a5339cff",
   "metadata": {},
   "outputs": [
    {
     "name": "stdout",
     "output_type": "stream",
     "text": [
      "Sample Mean: 5.011\n",
      "Sample Variance: 4.892878999999999\n"
     ]
    }
   ],
   "source": [
    "import numpy as np\n",
    "\n",
    "# Set the parameters\n",
    "sample_size = 1000\n",
    "mean_poisson = 5\n",
    "\n",
    "# Generate the random sample\n",
    "poisson_sample = np.random.poisson(mean_poisson, sample_size)\n",
    "\n",
    "# Calculate sample mean and variance\n",
    "sample_mean = np.mean(poisson_sample)\n",
    "sample_variance = np.var(poisson_sample)\n",
    "\n",
    "print(f\"Sample Mean: {sample_mean}\")\n",
    "print(f\"Sample Variance: {sample_variance}\")\n"
   ]
  },
  {
   "cell_type": "markdown",
   "id": "3ea68b0e-1217-4e90-ba27-99ed9a44e986",
   "metadata": {},
   "source": [
    "Q9. How mean and variance are related in Binomial distribution and Poisson distribution?"
   ]
  },
  {
   "cell_type": "markdown",
   "id": "69e4cba3-5b1c-4ede-a26a-d209bb3acd2a",
   "metadata": {},
   "source": [
    "The mean and variance of the Binomial Distribution are determined by the number of trials and the probability of success, while the mean and variance of the Poisson Distribution are both equal to the rate parameter λ."
   ]
  },
  {
   "cell_type": "markdown",
   "id": "3fd15b92-52a9-4a93-8425-8c685c4c7903",
   "metadata": {},
   "source": [
    "Q10. In normal distribution with respect to mean position, where does the least frequent data appear?"
   ]
  },
  {
   "cell_type": "markdown",
   "id": "85194892-346c-4663-9345-272e959a4bb7",
   "metadata": {},
   "source": [
    "In a normal distribution, the least frequent data appears the further away it is from the mean. A normal distribution, also known as a Gaussian distribution or probability bell curve, is a type of continuous probability distribution where most data points cluster around the middle of the range, while the rest taper off symmetrically toward either extreme.\n",
    "\n"
   ]
  }
 ],
 "metadata": {
  "kernelspec": {
   "display_name": "Python 3 (ipykernel)",
   "language": "python",
   "name": "python3"
  },
  "language_info": {
   "codemirror_mode": {
    "name": "ipython",
    "version": 3
   },
   "file_extension": ".py",
   "mimetype": "text/x-python",
   "name": "python",
   "nbconvert_exporter": "python",
   "pygments_lexer": "ipython3",
   "version": "3.10.8"
  }
 },
 "nbformat": 4,
 "nbformat_minor": 5
}
