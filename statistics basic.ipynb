{
 "cells": [
  {
   "cell_type": "markdown",
   "id": "7453514f-53b5-442d-9ef8-270535c8db5f",
   "metadata": {},
   "source": [
    "Q1. What is Statistics?"
   ]
  },
  {
   "cell_type": "markdown",
   "id": "77d0df7e-cd23-44dc-8fb2-723e0867449a",
   "metadata": {},
   "source": [
    "Statistics is the science concerned with developing and studying methods for collecting, analyzing, interpreting and presenting empirical data."
   ]
  },
  {
   "cell_type": "markdown",
   "id": "4f782dad-b579-4e57-9ba7-242eb8047433",
   "metadata": {},
   "source": [
    "Q2. Define the different types of statistics and give an example of when each type might be used."
   ]
  },
  {
   "cell_type": "markdown",
   "id": "ee8194a7-62dd-4523-9ceb-abe7f9688310",
   "metadata": {},
   "source": [
    "Statistics are divided into two main types: descriptive and inferential. Descriptive statistics describe data in a summarized way, while inferential statistics use that data to explain the descriptive statistics. Both types of statistics are used on a large scale. \n",
    "\n",
    "There are two kinds of Statistics, which are descriptive Statistics and inferential Statistics. In descriptive Statistics, the Data or Collection Data are described in a summarized way, whereas in inferential Statistics, we make use of it in order to explain the descriptive kind. Both of them are used on a large scale. Also, there is another kind of Statistics where descriptive transitions into inferential Statistics. Statistics is mainly divided into the following two categories. Descriptive Statistics. Inferential Statistics. Descriptive Statistics. In the descriptive Statistics, the Data is described in a summarized way.              \n",
    "Descriptive statistics use numerical calculations, graphs, or tables to provide population descriptions. Inferential statistics make predictions and inferences based on a sample dataset. Inferential statistics involve hypothesis testing, which uses statistical methods to determine if a population hypothesis is likely true.                 \n",
    "Here are some examples of descriptive statistics:                   \n",
    "Mean: The sum of all values divided by the total number                \n",
    "Variability: Also known as dispersion, scatter, or spread, this measure indicates how far apart points are from each other and from the center of a distribution or data set                    \n",
    "ANOVA statistics: Also known as Analysis of Variance, this measure uses the difference between the mean of the data set and the individual data set to measure the data set's dispersion                       "
   ]
  },
  {
   "cell_type": "markdown",
   "id": "ea575ad5-9436-4d95-9c8b-7ddb7490c774",
   "metadata": {},
   "source": [
    "Q3. What are the different types of data and how do they differ from each other? Provide an example of\n",
    "each type of data."
   ]
  },
  {
   "cell_type": "markdown",
   "id": "d9ea1d5e-eb7f-44da-83a4-b31e97baccdc",
   "metadata": {},
   "source": [
    "In statistics, there are four main types of data: nominal, ordinal, interval, and ratio. These types of data help determine the appropriate statistical tests to use. \n",
    "\n",
    "In statistics, there are four main types of data: nominal, ordinal, interval, and ratio. These types of data are used to describe the nature of the data being collected or analyzed, and they help determine the appropriate statistical tests to use.\n",
    "Here are some examples of different types of data:\n",
    "\n",
    "Qualitative data\n",
    "Also known as categorical data, this data is non-numerical and can be categorized into groups. For example, hair color is qualitative data because it can be divided into groups like \"blond,\" \"brown,\" and \"red\". Other examples of qualitative data include a person's name, hair color, and occupation.\n",
    "\n",
    "Quantitative data\n",
    "This data is numerical and can be measured and compared. For example, temperature, age, and number of purchases are all quantitative data. Quantitative data allows you to perform calculations to identify patterns, trends, and relationships."
   ]
  },
  {
   "cell_type": "markdown",
   "id": "10432561-bda7-4a36-aa97-8b7144d7014f",
   "metadata": {},
   "source": [
    "Q4. Categorise the following datasets with respect to quantitative and qualitative data types:\n",
    "(i) Grading in exam: A+, A, B+, B, C+, C, D, E\n",
    "(ii) Colour of mangoes: yellow, green, orange, red\n",
    "(iii) Height data of a class: [178.9, 179, 179.5, 176, 177.2, 178.3, 175.8,...]\n",
    "(iv) Number of mangoes exported by a farm: [500, 600, 478, 672, ...]"
   ]
  },
  {
   "cell_type": "markdown",
   "id": "5b132554-209c-40a5-898a-25d5cc364bb3",
   "metadata": {},
   "source": [
    "\n",
    "Let's categorize each dataset with respect to quantitative and qualitative data types:\n",
    "\n",
    "(i) Grading in exam: A+, A, B+, B, C+, C, D, E\n",
    "\n",
    "Qualitative (or categorical) data, specifically ordinal data because there's a meaningful order (A+ > A > B+ > B > C+ > C > D > E) but the differences between grades are not equal.\n",
    "(ii) Colour of mangoes: yellow, green, orange, red\n",
    "\n",
    "Qualitative (or categorical) data, specifically nominal data because the colors are discrete categories without any inherent order.\n",
    "(iii) Height data of a class: [178.9, 179, 179.5, 176, 177.2, 178.3, 175.8,...]\n",
    "\n",
    "Quantitative (or numerical) data, specifically ratio data as it represents measurements with a true zero point (e.g., 0 cm height is meaningful) and equal intervals between values.\n",
    "(iv) Number of mangoes exported by a farm: [500, 600, 478, 672, ...]\n",
    "\n",
    "Quantitative (or numerical) data, specifically ratio data as it represents counts or measurements with a true zero point and equal intervals between values."
   ]
  },
  {
   "cell_type": "markdown",
   "id": "80393e9a-7a97-4bef-a8d4-19c388b39f87",
   "metadata": {},
   "source": [
    "Q5. Explain the concept of levels of measurement and give an example of a variable for each level."
   ]
  },
  {
   "cell_type": "markdown",
   "id": "f613e477-c9f5-49d3-b80b-52d8b0ad2ff3",
   "metadata": {},
   "source": [
    "Levels of measurement, also called scales of measurement, describe how variables are recorded. The four levels of measurement are nominal, ordinal, interval, and ratio. Each level has properties of the previous levels, and the level at which a variable is measured determines how data can be analyzed. \n",
    "\n",
    "Scribbr\n",
    "Levels of Measurement | Nominal, Ordinal, Interval and Ratio\n",
    "16 Jul 2020\n",
    "\n",
    "quora.com\n",
    "What are the four levels of measurement in social research? Please use an example to discuss each level.\n",
    "3 May 2020 — In social research, the four levels of measurement are nominal, ordinal, interval, and ratio. 1. Nominal level: This is the lowest level of measurement and involves categorizing data without any order or ranking. An example of nominal level measurement is categorizing people by their favorite colors. There is no inherent order to the colors, and they are simply being used to label different groups. 2. Ordinal level: This level of measurement involves categorizing data with an inherent order or ranking. An example of ordinal level measurement is ranking movie ratings from \"poor\" to \"excellent.\" While there is an order to the rankings, the differences between the categories are not necessarily equal. 3. Interval level: This level of measurement not only has an inherent order, but also equal intervals between the values. An example of interval level measurement is the Fahrenheit temperature scale. The difference between 60°F and 70°F is the same as the difference between 70°F and 80°F. 4.…\n",
    "\n",
    "numerade.com\n",
    "1. The highest measurement is the interval level. True or False 2. The variable age is an example of qualitative variable. True or False\n",
    "7 Dec 2021 — Understand what the interval level of measurement is. The interval level of measurement is a type of quantitative measurement where there is order, equal distances between values, but no true zero point. Examples include temperature in Celsius or Fahrenheit, where 0 does not mean the absence of temperature. Step 2: Assess the statement \"The highest measurement is the interval level.\" Recall that there are four levels of measurement: nominal, ordinal, interval, and ratio. The ratio level includes all the properties of the interval level and also has a true zero point, making it possible to make statements about how many times higher one measurement is than another. Therefore, the statement is False because the ratio level is considered higher than the interval level due to its true zero point. Step 3: Understand what qualitative variables are. Qualitative variables, also known as categorical variables, describe qualities or characteristics that cannot be measured with numbers, such as…\n",
    "\n",
    "en.wikipedia.org\n",
    "Level of measurement - Wikipedia\n",
    "Level of measurement or scale of measure is a classification that describes the nature of information within the values assigned to variables. Psychologist Stanley Smith Stevens developed the best-known classification with four levels, or scales, of measurement: nominal, ordinal, interval, and ratio. This framework of distinguishing levels of measurement originated in psychology and has since had a complex history, being adopted and extended in some disciplines and by some scholars, and criticized or rejected by others. Other classifications include those by Mosteller and Tukey, and by Chrisman.\n",
    "Here are some examples of variables for each level:\n",
    "\n",
    "Nominal\n",
    "Categorizes data without order, such as gender, ethnicity, breed of dog, or name of university\n",
    "\n",
    "Ordinal\n",
    "Categorizes data with order, such as rating movie ratings from \"poor\" to \"excellent\"\n",
    "Interval\n",
    "Has equal intervals between values, such as temperature in Celsius or Fahrenheit\n",
    "\n",
    "Ratio\n",
    "Has a true zero point, such as height, speed, age, weight, or income "
   ]
  }
 ],
 "metadata": {
  "kernelspec": {
   "display_name": "Python 3 (ipykernel)",
   "language": "python",
   "name": "python3"
  },
  "language_info": {
   "codemirror_mode": {
    "name": "ipython",
    "version": 3
   },
   "file_extension": ".py",
   "mimetype": "text/x-python",
   "name": "python",
   "nbconvert_exporter": "python",
   "pygments_lexer": "ipython3",
   "version": "3.10.8"
  }
 },
 "nbformat": 4,
 "nbformat_minor": 5
}
