{
 "cells": [
  {
   "cell_type": "markdown",
   "id": "259a525b-a74b-42ac-890a-0616c0dc03bb",
   "metadata": {},
   "source": [
    "Q1. What are the three measures of central tendency?"
   ]
  },
  {
   "cell_type": "markdown",
   "id": "9b0bc403-b435-4b50-94e3-2ecd2b29c590",
   "metadata": {},
   "source": [
    "There are three main measures of central tendency: mode. median. mean."
   ]
  },
  {
   "cell_type": "markdown",
   "id": "dfd3cc74-da4c-41b1-80fd-f1f41257e1ab",
   "metadata": {},
   "source": [
    "Q2. What is the difference between the mean, median, and mode? How are they used to measure the\n",
    "central tendency of a dataset?"
   ]
  },
  {
   "cell_type": "markdown",
   "id": "5458c162-805a-4792-a737-be476a95bff8",
   "metadata": {},
   "source": [
    "The mean, median, and mode are the three most common measures of central tendency in a data set:\n",
    "Mean: The average of a data set, calculated by adding all the numbers in the set and dividing by the number of values in the set\n",
    "Median: The middle value when a data set is ordered from least to greatest\n",
    "Mode: The number that occurs most often in a data set \n",
    "\n",
    "The mode is the most frequent value. The median is the middle number in an ordered data set. The mean is the sum of all values divided by the total number of values.\n",
    "\n",
    "\n",
    "The mean (average) of a data set is found by adding all numbers in the data set and then dividing by the number of values in the set. The median is the middle value when a data set is ordered from least to greatest. The mode is the number that occurs most often in a data set.\n",
    "The mean is dragged in the direction of skew. In a skewed distribution, the mode is less than the median, which is less than the mean. The more skewed the distribution, the greater the difference between the median and mean. For example, in employee salaries, higher-earners provide a false representation of the typical income if expressed as mean salaries and not the median salaries.        \n",
    "The mean, median, and mode are related by the empirical formula: 2 × Mean + Mode = 3 × Median. This formula can be used to calculate one of the central tendencies when two other central tendencies are given.         \n",
    "The median is used by sociologists to study income distribution within societies. The mode is used by market researchers to identify consumers' most popular product features or preferences. Retailers analyze sales data to determine the most frequently purchased items, using the mode to stock products effectively and plan promotions. "
   ]
  },
  {
   "cell_type": "markdown",
   "id": "136b8cc2-0275-472a-ae35-1269882e2dbc",
   "metadata": {},
   "source": [
    "Q3. Measure the three measures of central tendency for the given height data:       \n",
    "[178,177,176,177,178.2,178,175,179,180,175,178.9,176.2,177,172.5,178,176.5]"
   ]
  },
  {
   "cell_type": "markdown",
   "id": "42d405a8-5c59-42be-9f1c-0c19314a5ab0",
   "metadata": {},
   "source": [
    "\n",
    "1. Mean:\n",
    "To find the mean, we add up all the values and then divide by the number of values.\n",
    "\n",
    "\\[ \\text{Mean} = \\frac{178 + 177 + 176 + 177 + 178.2 + 178 + 175 + 179 + 180 + 175 + 178.9 + 176.2 + 177 + 172.5 + 178 + 176.5}{16} \\]\n",
    "\n",
    "\\[ \\text{Mean} = \\frac{2827.3}{16} \\]\n",
    "\n",
    "\\[ \\text{Mean} = 176.70625 \\]\n",
    "\n",
    "So, the mean height is approximately 176.71.\n",
    "\n",
    "2. Median:\n",
    "To find the median, we first arrange the data in ascending order:\n",
    "\\[ 172.5, 175, 175, 176, 176, 176.2, 176.5, 177, 177, 177, 178, 178, 178, 178.2, 178.9, 179, 180 \\]\n",
    "\n",
    "Since there are 16 data points, the median is the average of the 8th and 9th values:\n",
    "\\[ \\text{Median} = \\frac{177 + 177}{2} \\]\n",
    "\\[ \\text{Median} = 177 \\]\n",
    "\n",
    "So, the median height is 177.\n",
    "\n",
    "3. Mode:\n",
    "The mode is the value that appears most frequently in the data set. From the given data set, we can see that 178 occurs most frequently.\n",
    "\n",
    "Therefore, the three measures of central tendency for the given height data are:\n",
    "\n",
    "- Mean: Approximately 176.71\n",
    "- Median: 177\n",
    "- Mode: 178"
   ]
  },
  {
   "cell_type": "markdown",
   "id": "7c76b971-ec4d-430c-9e18-2ce528fc6c5f",
   "metadata": {},
   "source": [
    "Q4. Find the standard deviation for the given data:        \n",
    "[178,177,176,177,178.2,178,175,179,180,175,178.9,176.2,177,172.5,178,176.5]"
   ]
  },
  {
   "cell_type": "markdown",
   "id": "aa759cab-97ce-49da-acc3-35ac21045f87",
   "metadata": {},
   "source": [
    "To find the standard deviation of the given data, you can follow these steps:\n",
    "\n",
    "1. Calculate the mean (average) of the data.\n",
    "2. Find the squared difference between each data point and the mean.\n",
    "3. Calculate the mean of these squared differences.\n",
    "4. Take the square root of the result from step 3 to get the standard deviation.\n",
    "\n",
    "Let's go through these steps:\n",
    "\n",
    "First, add up all the numbers and divide by the count to find the mean:\n",
    "\n",
    "\\[ \\text{Mean} = \\frac{178 + 177 + 176 + 177 + 178.2 + 178 + 175 + 179 + 180 + 175 + 178.9 + 176.2 + 177 + 172.5 + 178 + 176.5}{16} \\]\n",
    "\n",
    "\\[ \\text{Mean} = \\frac{2838.3}{16} \\]\n",
    "\n",
    "\\[ \\text{Mean} = 177.39375 \\]\n",
    "\n",
    "Next, find the squared difference for each data point from the mean:\n",
    "\n",
    "\\[ (178 - 177.39375)^2 = 0.373515625 \\]\n",
    "\\[ (177 - 177.39375)^2 = 0.155859375 \\]\n",
    "\\[ (176 - 177.39375)^2 = 1.967265625 \\]\n",
    "\\[ (177 - 177.39375)^2 = 0.155859375 \\]\n",
    "\\[ (178.2 - 177.39375)^2 = 0.654515625 \\]\n",
    "\\[ (178 - 177.39375)^2 = 0.373515625 \\]\n",
    "\\[ (175 - 177.39375)^2 = 5.778265625 \\]\n",
    "\\[ (179 - 177.39375)^2 = 2.557265625 \\]\n",
    "\\[ (180 - 177.39375)^2 = 6.735515625 \\]\n",
    "\\[ (175 - 177.39375)^2 = 5.778265625 \\]\n",
    "\\[ (178.9 - 177.39375)^2 = 2.271015625 \\]\n",
    "\\[ (176.2 - 177.39375)^2 = 1.421515625 \\]\n",
    "\\[ (177 - 177.39375)^2 = 0.155859375 \\]\n",
    "\\[ (172.5 - 177.39375)^2 = 23.905265625 \\]\n",
    "\\[ (178 - 177.39375)^2 = 0.373515625 \\]\n",
    "\\[ (176.5 - 177.39375)^2 = 0.798765625 \\]\n",
    "\n",
    "Then, find the mean of these squared differences:\n",
    "\n",
    "\\[ \\text{Mean of Squared Differences} = \\frac{0.373515625 + 0.155859375 + \\ldots + 0.798765625}{16} \\]\n",
    "\n",
    "\\[ \\text{Mean of Squared Differences} = \\frac{38.861828125}{16} \\]\n",
    "\n",
    "\\[ \\text{Mean of Squared Differences} = 2.42886426563 \\]\n",
    "\n",
    "Finally, take the square root of the mean of squared differences to find the standard deviation:\n",
    "\n",
    "\\[ \\text{Standard Deviation} = \\sqrt{2.42886426563} \\]\n",
    "\n",
    "\\[ \\text{Standard Deviation} \\approx 1.5587 \\]\n",
    "\n",
    "So, the standard deviation of the given data is approximately 1.5587."
   ]
  },
  {
   "cell_type": "markdown",
   "id": "dca4880c-5ca5-48aa-aa06-269bf9629ba7",
   "metadata": {},
   "source": [
    "Q5. How are measures of dispersion such as range, variance, and standard deviation used to describe\n",
    "the spread of a dataset? Provide an example."
   ]
  },
  {
   "cell_type": "markdown",
   "id": "e274e5dd-d08f-40d3-8a06-24d8fb36833e",
   "metadata": {},
   "source": [
    "Measures of dispersion, including range, variance, and standard deviation, are used to quantify the extent to which data points in a dataset vary or spread out from the central tendency (such as the mean or median). Each of these measures provides different insights into the distribution of data points within a dataset:\n",
    "\n",
    "1. **Range**: The range is the simplest measure of dispersion and represents the difference between the maximum and minimum values in a dataset. It gives a rough idea of how widely spread out the data points are.\n",
    "\n",
    "   For example, consider the following dataset representing the ages of a group of individuals: \\[ \\{ 25, 30, 35, 40, 45 \\} \\]\n",
    "   The range is calculated as: \\[ \\text{Range} = \\text{Maximum value} - \\text{Minimum value} = 45 - 25 = 20 \\]\n",
    "   Here, the range of ages is 20, indicating that the ages are spread over a 20-year span.\n",
    "\n",
    "2. **Variance**: Variance measures the average squared deviation of each data point from the mean. It provides a more precise measure of dispersion than the range, as it takes into account the magnitude of differences from the mean.\n",
    "\n",
    "   Using the same dataset as above, let's calculate the variance:\n",
    "   \\[ \\text{Mean} = \\frac{25 + 30 + 35 + 40 + 45}{5} = \\frac{175}{5} = 35 \\]\n",
    "   Squared deviations from the mean: \\[ (25 - 35)^2, (30 - 35)^2, (35 - 35)^2, (40 - 35)^2, (45 - 35)^2 \\]\n",
    "   \\[ (25 - 35)^2 = 100, \\ (30 - 35)^2 = 25, \\ (35 - 35)^2 = 0, \\ (40 - 35)^2 = 25, \\ (45 - 35)^2 = 100 \\]\n",
    "   Variance: \\[ \\text{Variance} = \\frac{100 + 25 + 0 + 25 + 100}{5} = \\frac{250}{5} = 50 \\]\n",
    "\n",
    "   The variance of this dataset is 50, indicating a moderate level of dispersion around the mean age of 35.\n",
    "\n",
    "3. **Standard Deviation**: The standard deviation is the square root of the variance. It measures the dispersion of data points around the mean in the same units as the original data.\n",
    "\n",
    "   Continuing with the example, the standard deviation is:\n",
    "   \\[ \\text{Standard Deviation} = \\sqrt{50} \\approx 7.07 \\]\n",
    "\n",
    "   The standard deviation of approximately 7.07 indicates that, on average, data points deviate from the mean age of 35 by about 7 years.\n",
    "\n"
   ]
  },
  {
   "cell_type": "markdown",
   "id": "81df2ec7-e6ef-4572-98f0-b4fc36878ad2",
   "metadata": {},
   "source": [
    "Q6. What is a Venn diagram?\n"
   ]
  },
  {
   "cell_type": "markdown",
   "id": "5cdff15c-fe7a-4be7-9734-a7f047131922",
   "metadata": {},
   "source": [
    "A Venn diagram is an illustration that uses overlapping circles to show the logical relation between two or more sets of items. Circles that overlap have a commonality while circles that do not overlap do not share those traits"
   ]
  },
  {
   "cell_type": "markdown",
   "id": "a5a7505e-6e5f-45bd-9ce8-1c9e96455729",
   "metadata": {},
   "source": [
    "Q7. For the two given sets A = (2,3,4,5,6,7) & B = (0,2,6,8,10). Find:\n",
    "(i) A B\n",
    "(ii) A ⋃ B"
   ]
  },
  {
   "cell_type": "markdown",
   "id": "5163e7c6-4030-45a1-8114-ef8a1f845d17",
   "metadata": {},
   "source": [
    "To find the union and intersection of sets A and B, let's first understand what these operations mean:\n",
    "\n",
    "- The intersection of two sets, denoted as A ∩ B, includes only the elements that are common to both sets A and B.\n",
    "- The union of two sets, denoted as A ∪ B, includes all the elements from both sets A and B, without duplicates.\n",
    "\n",
    "Given sets A = {2, 3, 4, 5, 6, 7} and B = {0, 2, 6, 8, 10}, let's find their intersection and union:\n",
    "\n",
    "(i) Intersection (A ∩ B):\n",
    "\n",
    "\\[ A \\cap B = \\{ x \\ | \\ x \\in A \\text{ and } x \\in B \\} \\]\n",
    "\n",
    "In other words, we are looking for elements that are in both sets A and B.\n",
    "\n",
    "\\[ A \\cap B = \\{ 2, 6 \\} \\]\n",
    "\n",
    "The intersection of sets A and B is the set {2, 6}.\n",
    "\n",
    "(ii) Union (A ∪ B):\n",
    "\n",
    "\\[ A \\cup B = \\{ x \\ | \\ x \\in A \\text{ or } x \\in B \\} \\]\n",
    "\n",
    "This means we combine all elements from both sets A and B, removing any duplicates.\n",
    "\n",
    "\\[ A \\cup B = \\{ 0, 2, 3, 4, 5, 6, 7, 8, 10 \\} \\]\n",
    "\n",
    "The union of sets A and B is the set {0, 2, 3, 4, 5, 6, 7, 8, 10}."
   ]
  },
  {
   "cell_type": "code",
   "execution_count": null,
   "id": "a7788f8c-3330-412c-86c6-cb0a215f053c",
   "metadata": {},
   "outputs": [],
   "source": []
  }
 ],
 "metadata": {
  "kernelspec": {
   "display_name": "Python 3 (ipykernel)",
   "language": "python",
   "name": "python3"
  },
  "language_info": {
   "codemirror_mode": {
    "name": "ipython",
    "version": 3
   },
   "file_extension": ".py",
   "mimetype": "text/x-python",
   "name": "python",
   "nbconvert_exporter": "python",
   "pygments_lexer": "ipython3",
   "version": "3.10.8"
  }
 },
 "nbformat": 4,
 "nbformat_minor": 5
}
